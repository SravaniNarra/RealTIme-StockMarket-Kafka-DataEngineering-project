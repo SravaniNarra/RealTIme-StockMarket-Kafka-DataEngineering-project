{
 "cells": [
  {
   "cell_type": "code",
   "execution_count": null,
   "id": "a7a557f2",
   "metadata": {},
   "outputs": [],
   "source": [
    "pip install s3fs"
   ]
  },
  {
   "cell_type": "code",
   "execution_count": null,
   "id": "d32bc747",
   "metadata": {},
   "outputs": [],
   "source": [
    "from kafka import KafkaConsumer\n",
    "from time import sleep\n",
    "from json import dumps,loads\n",
    "import json\n",
    "from s3fs import S3FileSystem"
   ]
  },
  {
   "cell_type": "code",
   "execution_count": null,
   "id": "779dd3d3",
   "metadata": {},
   "outputs": [],
   "source": [
    "consumer = KafkaConsumer(\n",
    "    'demo_test1',\n",
    "     bootstrap_servers=['54.64.118.173:9092'], #add your IP here\n",
    "    value_deserializer=lambda x: loads(x.decode('utf-8')))"
   ]
  },
  {
   "cell_type": "code",
   "execution_count": null,
   "id": "047840d8",
   "metadata": {},
   "outputs": [],
   "source": [
    "#for c in consumer:\n",
    "   # print(c.value)"
   ]
  },
  {
   "cell_type": "code",
   "execution_count": null,
   "id": "4395de62",
   "metadata": {},
   "outputs": [],
   "source": [
    "s3 = S3FileSystem()"
   ]
  },
  {
   "cell_type": "code",
   "execution_count": null,
   "id": "de549d34",
   "metadata": {},
   "outputs": [],
   "source": [
    "for count, i in enumerate(consumer):\n",
    "    with s3.open(\"s3://kafka-stockmarket-realtime-sravani/stock_market_{}.json\".format(count), 'w') as file:\n",
    "        json.dump(i.value, file)   "
   ]
  },
  {
   "cell_type": "code",
   "execution_count": null,
   "id": "c33d0f1b",
   "metadata": {},
   "outputs": [],
   "source": []
  }
 ],
 "metadata": {
  "kernelspec": {
   "display_name": "Python 3 (ipykernel)",
   "language": "python",
   "name": "python3"
  },
  "language_info": {
   "codemirror_mode": {
    "name": "ipython",
    "version": 3
   },
   "file_extension": ".py",
   "mimetype": "text/x-python",
   "name": "python",
   "nbconvert_exporter": "python",
   "pygments_lexer": "ipython3",
   "version": "3.11.1"
  }
 },
 "nbformat": 4,
 "nbformat_minor": 5
}
